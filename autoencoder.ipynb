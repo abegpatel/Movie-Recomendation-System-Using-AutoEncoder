{
  "nbformat": 4,
  "nbformat_minor": 0,
  "metadata": {
    "colab": {
      "name": "autoencoder.ipynb",
      "provenance": [],
      "collapsed_sections": [],
      "toc_visible": true,
      "mount_file_id": "175wmAOT-AmTBDN4V8ktJH0N2B_igISHH",
      "authorship_tag": "ABX9TyMrxWRor8lA92ahCdsfgCsb",
      "include_colab_link": true
    },
    "kernelspec": {
      "name": "python3",
      "display_name": "Python 3"
    }
  },
  "cells": [
    {
      "cell_type": "markdown",
      "metadata": {
        "id": "view-in-github",
        "colab_type": "text"
      },
      "source": [
        "<a href=\"https://colab.research.google.com/github/abegpatel/movie-recomendation-system-using-auto-encoder/blob/master/autoencoder.ipynb\" target=\"_parent\"><img src=\"https://colab.research.google.com/assets/colab-badge.svg\" alt=\"Open In Colab\"/></a>"
      ]
    },
    {
      "cell_type": "markdown",
      "metadata": {
        "id": "N8AL8EWacKri",
        "colab_type": "text"
      },
      "source": [
        "**AUTO ENCODERS:**\n",
        ".auto encoders\n",
        ".training of an auto encoders\n",
        ".overcomplete hidden layers\n",
        ".sparse autoencoders\n",
        ".denoising autoencoders\n",
        ".contractive autoencoders\n",
        ".stacked autoencoders\n",
        ".deep autoencoders"
      ]
    },
    {
      "cell_type": "markdown",
      "metadata": {
        "id": "oL81l47FcKv5",
        "colab_type": "text"
      },
      "source": [
        "**.auto encoders**\n",
        "used for recomendation system\n",
        "visibleinput nodes->encoding->hiddenlayer->decoding->visible output layers\n",
        ".it encoding it self\n",
        ".self supervised model\n",
        "\n",
        "\n",
        ".uesd for feature detection\n",
        ".uesd for powerful recomendation system\n",
        ".used for encoding\n",
        "eg..\n",
        "4 movies as i/p->hidden layer->4 visiable o/p layer\n",
        "soft max function\n",
        "->takes highest value\n",
        "convert highest val-1\n",
        "else 0\n",
        "\n"
      ]
    },
    {
      "cell_type": "markdown",
      "metadata": {
        "id": "thRkXgNVfkPK",
        "colab_type": "text"
      },
      "source": [
        "**training of an auto encoders **\n",
        "1.we start with an array where lines corresponds to user and column\n",
        "2.the first goes to the network.input vector contains ratings of all movie\n",
        "3.the i/p vector x is encoded into a vector zof same dimension by mapping function\n",
        "z=f(wx+b)w->weights\n",
        "         b-bias\n",
        "4.z is decoded into the o/p vector y of same dimension as x\n",
        "5.the reconstruction error d(x,y)=||x-y|| is computedthe goal is to minimize it\n",
        "6.back_popagated throungh right to left and upadated(gradient descent)\n",
        "7.repeat 1 to 7\n",
        "8.read more epochs\n"
      ]
    },
    {
      "cell_type": "markdown",
      "metadata": {
        "id": "ytYWUEn-fkzo",
        "colab_type": "text"
      },
      "source": [
        ""
      ]
    },
    {
      "cell_type": "markdown",
      "metadata": {
        "colab_type": "text",
        "id": "RHo1b9m6jR5Q"
      },
      "source": [
        "**overcomplete hidden layers**\n",
        "if i/p layer->more hidden layer->o/p layer\n",
        "it will cheat\n",
        "and go straight produce o/p\n",
        "and hidden layer which are left not in use\n"
      ]
    },
    {
      "cell_type": "markdown",
      "metadata": {
        "id": "5QlKsqgpfk1-",
        "colab_type": "text"
      },
      "source": [
        "**.sparse autoencoders**\n",
        "hidden layer is more than i/p layer\n",
        "(it will cheat)\n",
        ".a regularization technique apply (prevent overfitting,stebilizing algorithm)\n",
        ".it uses ceratin no of nodes at a time\n"
      ]
    },
    {
      "cell_type": "markdown",
      "metadata": {
        "id": "9zM1b6DjlocD",
        "colab_type": "text"
      },
      "source": [
        "**.denoising autoencoders**\n",
        "when we have more hidden layer\n",
        ".a regularization technique\n",
        ".modified version of i/p value\n",
        ".randomly assign to 0\n",
        ".compare o/p to original value\n",
        ".stochastic auto encoder\n"
      ]
    },
    {
      "cell_type": "markdown",
      "metadata": {
        "id": "RLHWHqjQlu0j",
        "colab_type": "text"
      },
      "source": [
        "**contractive autoencoders**\n",
        ".a regularization techinque\n",
        ".they add penalty to loss function\n"
      ]
    },
    {
      "cell_type": "markdown",
      "metadata": {
        "id": "vRvOEIS9mkbc",
        "colab_type": "text"
      },
      "source": [
        "**stacked autoencoders**\n",
        ".add two hidden layer in auto encoders\n",
        ".hidden layer->encoding->hidden layer\n",
        ".directed neural network"
      ]
    },
    {
      "cell_type": "markdown",
      "metadata": {
        "id": "rUPAAzkpm8Lr",
        "colab_type": "text"
      },
      "source": [
        "**deep autoencoders**\n",
        "i/p layer->hidden layer1..2..3..->o/p layer(rbm stack)\n"
      ]
    },
    {
      "cell_type": "code",
      "metadata": {
        "id": "imRAzwc-nayg",
        "colab_type": "code",
        "colab": {}
      },
      "source": [
        "!unzip -uq \"/content/drive/My Drive/P16-AutoEncoders.zip\" -d \"/content/drive/My Drive/\"\n",
        "!unzip -uq \"/content/drive/My Drive/AutoEncoders/ml-100k.zip\" -d \"/content/drive/My Drive/AutoEncoders/\"\n",
        "!unzip -uq \"/content/drive/My Drive/AutoEncoders/ml-1m.zip\" -d \"/content/drive/My Drive/AutoEncoders/\""
      ],
      "execution_count": null,
      "outputs": []
    },
    {
      "cell_type": "code",
      "metadata": {
        "id": "2C-wpm8kpM5D",
        "colab_type": "code",
        "colab": {}
      },
      "source": [
        "# AutoEncoders\n",
        "\n",
        "# Importing the libraries\n",
        "import numpy as np\n",
        "import pandas as pd\n",
        "import torch\n",
        "import torch.nn as nn\n",
        "import torch.nn.parallel\n",
        "import torch.optim as optim\n",
        "import torch.utils.data\n",
        "from torch.autograd import Variable\n"
      ],
      "execution_count": null,
      "outputs": []
    },
    {
      "cell_type": "code",
      "metadata": {
        "id": "4zoqPkt4pWhP",
        "colab_type": "code",
        "colab": {}
      },
      "source": [
        "# Importing the dataset\n",
        "movies = pd.read_csv('/content/drive/My Drive/AutoEncoders/ml-1m/movies.dat', sep = '::', header = None, engine = 'python', encoding = 'latin-1')\n",
        "users = pd.read_csv('/content/drive/My Drive/AutoEncoders/ml-1m/users.dat', sep = '::', header = None, engine = 'python', encoding = 'latin-1')\n",
        "ratings = pd.read_csv('/content/drive/My Drive/AutoEncoders/ml-1m/ratings.dat', sep = '::', header = None, engine = 'python', encoding = 'latin-1')\n",
        "\n"
      ],
      "execution_count": null,
      "outputs": []
    },
    {
      "cell_type": "code",
      "metadata": {
        "id": "l2YacgfIvkeZ",
        "colab_type": "code",
        "colab": {
          "base_uri": "https://localhost:8080/",
          "height": 404
        },
        "outputId": "a87fced6-3665-4e6a-9751-46f0cc75fe7e"
      },
      "source": [
        "movies"
      ],
      "execution_count": null,
      "outputs": [
        {
          "output_type": "execute_result",
          "data": {
            "text/html": [
              "<div>\n",
              "<style scoped>\n",
              "    .dataframe tbody tr th:only-of-type {\n",
              "        vertical-align: middle;\n",
              "    }\n",
              "\n",
              "    .dataframe tbody tr th {\n",
              "        vertical-align: top;\n",
              "    }\n",
              "\n",
              "    .dataframe thead th {\n",
              "        text-align: right;\n",
              "    }\n",
              "</style>\n",
              "<table border=\"1\" class=\"dataframe\">\n",
              "  <thead>\n",
              "    <tr style=\"text-align: right;\">\n",
              "      <th></th>\n",
              "      <th>0</th>\n",
              "      <th>1</th>\n",
              "      <th>2</th>\n",
              "    </tr>\n",
              "  </thead>\n",
              "  <tbody>\n",
              "    <tr>\n",
              "      <th>0</th>\n",
              "      <td>1</td>\n",
              "      <td>Toy Story (1995)</td>\n",
              "      <td>Animation|Children's|Comedy</td>\n",
              "    </tr>\n",
              "    <tr>\n",
              "      <th>1</th>\n",
              "      <td>2</td>\n",
              "      <td>Jumanji (1995)</td>\n",
              "      <td>Adventure|Children's|Fantasy</td>\n",
              "    </tr>\n",
              "    <tr>\n",
              "      <th>2</th>\n",
              "      <td>3</td>\n",
              "      <td>Grumpier Old Men (1995)</td>\n",
              "      <td>Comedy|Romance</td>\n",
              "    </tr>\n",
              "    <tr>\n",
              "      <th>3</th>\n",
              "      <td>4</td>\n",
              "      <td>Waiting to Exhale (1995)</td>\n",
              "      <td>Comedy|Drama</td>\n",
              "    </tr>\n",
              "    <tr>\n",
              "      <th>4</th>\n",
              "      <td>5</td>\n",
              "      <td>Father of the Bride Part II (1995)</td>\n",
              "      <td>Comedy</td>\n",
              "    </tr>\n",
              "    <tr>\n",
              "      <th>...</th>\n",
              "      <td>...</td>\n",
              "      <td>...</td>\n",
              "      <td>...</td>\n",
              "    </tr>\n",
              "    <tr>\n",
              "      <th>3878</th>\n",
              "      <td>3948</td>\n",
              "      <td>Meet the Parents (2000)</td>\n",
              "      <td>Comedy</td>\n",
              "    </tr>\n",
              "    <tr>\n",
              "      <th>3879</th>\n",
              "      <td>3949</td>\n",
              "      <td>Requiem for a Dream (2000)</td>\n",
              "      <td>Drama</td>\n",
              "    </tr>\n",
              "    <tr>\n",
              "      <th>3880</th>\n",
              "      <td>3950</td>\n",
              "      <td>Tigerland (2000)</td>\n",
              "      <td>Drama</td>\n",
              "    </tr>\n",
              "    <tr>\n",
              "      <th>3881</th>\n",
              "      <td>3951</td>\n",
              "      <td>Two Family House (2000)</td>\n",
              "      <td>Drama</td>\n",
              "    </tr>\n",
              "    <tr>\n",
              "      <th>3882</th>\n",
              "      <td>3952</td>\n",
              "      <td>Contender, The (2000)</td>\n",
              "      <td>Drama|Thriller</td>\n",
              "    </tr>\n",
              "  </tbody>\n",
              "</table>\n",
              "<p>3883 rows × 3 columns</p>\n",
              "</div>"
            ],
            "text/plain": [
              "         0                                   1                             2\n",
              "0        1                    Toy Story (1995)   Animation|Children's|Comedy\n",
              "1        2                      Jumanji (1995)  Adventure|Children's|Fantasy\n",
              "2        3             Grumpier Old Men (1995)                Comedy|Romance\n",
              "3        4            Waiting to Exhale (1995)                  Comedy|Drama\n",
              "4        5  Father of the Bride Part II (1995)                        Comedy\n",
              "...    ...                                 ...                           ...\n",
              "3878  3948             Meet the Parents (2000)                        Comedy\n",
              "3879  3949          Requiem for a Dream (2000)                         Drama\n",
              "3880  3950                    Tigerland (2000)                         Drama\n",
              "3881  3951             Two Family House (2000)                         Drama\n",
              "3882  3952               Contender, The (2000)                Drama|Thriller\n",
              "\n",
              "[3883 rows x 3 columns]"
            ]
          },
          "metadata": {
            "tags": []
          },
          "execution_count": 22
        }
      ]
    },
    {
      "cell_type": "code",
      "metadata": {
        "id": "daznpqFqsEuB",
        "colab_type": "code",
        "colab": {}
      },
      "source": [
        "# Preparing the training set and the test set\n",
        "training_set = pd.read_csv('/content/drive/My Drive/AutoEncoders/ml-100k/u1.base', delimiter = '\\t')\n",
        "training_set = np.array(training_set, dtype = 'int')\n",
        "test_set = pd.read_csv('/content/drive/My Drive/AutoEncoders/ml-100k/u1.test', delimiter = '\\t')\n",
        "test_set = np.array(test_set, dtype = 'int')\n"
      ],
      "execution_count": null,
      "outputs": []
    },
    {
      "cell_type": "code",
      "metadata": {
        "id": "-fLT5nh3sd2w",
        "colab_type": "code",
        "colab": {}
      },
      "source": [
        "# Getting the number of users and movies\n",
        "nb_users = int(max(max(training_set[:,0]), max(test_set[:,0])))\n",
        "nb_movies = int(max(max(training_set[:,1]), max(test_set[:,1])))\n"
      ],
      "execution_count": null,
      "outputs": []
    },
    {
      "cell_type": "code",
      "metadata": {
        "id": "7_AvEIKEsnte",
        "colab_type": "code",
        "colab": {}
      },
      "source": [
        "# Converting the data into an array with users in lines and movies in columns\n",
        "def convert(data):\n",
        "    new_data = []\n",
        "    for id_users in range(1, nb_users + 1):\n",
        "        id_movies = data[:,1][data[:,0] == id_users]\n",
        "        id_ratings = data[:,2][data[:,0] == id_users]\n",
        "        ratings = np.zeros(nb_movies)\n",
        "        ratings[id_movies - 1] = id_ratings\n",
        "        new_data.append(list(ratings))\n",
        "    return new_data\n",
        "training_set = convert(training_set)\n",
        "test_set = convert(test_set)\n"
      ],
      "execution_count": null,
      "outputs": []
    },
    {
      "cell_type": "code",
      "metadata": {
        "id": "O0sf-ibAs4fP",
        "colab_type": "code",
        "colab": {}
      },
      "source": [
        "# Converting the data into Torch tensors\n",
        "training_set = torch.FloatTensor(training_set)\n",
        "test_set = torch.FloatTensor(test_set)\n"
      ],
      "execution_count": null,
      "outputs": []
    },
    {
      "cell_type": "code",
      "metadata": {
        "id": "iasc3qAytSZz",
        "colab_type": "code",
        "colab": {}
      },
      "source": [
        "\n",
        "# Creating the architecture of the Neural Network\n",
        "class SAE(nn.Module):\n",
        "    def __init__(self, ):\n",
        "        super(SAE, self).__init__()\n",
        "        self.fc1 = nn.Linear(nb_movies, 20)\n",
        "        self.fc2 = nn.Linear(20, 10)\n",
        "        self.fc3 = nn.Linear(10, 20)\n",
        "        self.fc4 = nn.Linear(20, nb_movies)\n",
        "        self.activation = nn.Sigmoid()\n",
        "    def forward(self, x):\n",
        "        x = self.activation(self.fc1(x))\n",
        "        x = self.activation(self.fc2(x))\n",
        "        x = self.activation(self.fc3(x))\n",
        "        x = self.fc4(x)\n",
        "        return x\n",
        "sae = SAE()\n",
        "criterion = nn.MSELoss()\n",
        "optimizer = optim.RMSprop(sae.parameters(), lr = 0.01, weight_decay = 0.5)"
      ],
      "execution_count": null,
      "outputs": []
    },
    {
      "cell_type": "code",
      "metadata": {
        "id": "s98aQGzSviNw",
        "colab_type": "code",
        "colab": {
          "base_uri": "https://localhost:8080/",
          "height": 1000
        },
        "outputId": "2e27304d-3524-4ba6-ca80-69c87ae77896"
      },
      "source": [
        "# Training the SAE\n",
        "nb_epoch = 200\n",
        "for epoch in range(1, nb_epoch + 1):\n",
        "    train_loss = 0\n",
        "    s = 0.\n",
        "    for id_user in range(nb_users):\n",
        "        input = Variable(training_set[id_user]).unsqueeze(0)\n",
        "        target = input.clone()\n",
        "        if torch.sum(target.data > 0) > 0:\n",
        "            output = sae(input)\n",
        "            target.require_grad = False\n",
        "            output[target == 0] = 0\n",
        "            loss= criterion(output, target)\n",
        "            mean_corrector = nb_movies/float(torch.sum(target.data > 0) + 1e-10)\n",
        "            loss.backward()\n",
        "            train_loss += np.sqrt(loss.data*mean_corrector)\n",
        "            s += 1.\n",
        "            optimizer.step()\n",
        "    print('epoch: '+str(epoch)+' loss: '+str(train_loss/s))"
      ],
      "execution_count": null,
      "outputs": [
        {
          "output_type": "stream",
          "text": [
            "epoch: 1 loss: tensor(1.7430)\n",
            "epoch: 2 loss: tensor(1.0958)\n",
            "epoch: 3 loss: tensor(1.0530)\n",
            "epoch: 4 loss: tensor(1.0383)\n",
            "epoch: 5 loss: tensor(1.0310)\n",
            "epoch: 6 loss: tensor(1.0264)\n",
            "epoch: 7 loss: tensor(1.0237)\n",
            "epoch: 8 loss: tensor(1.0217)\n",
            "epoch: 9 loss: tensor(1.0208)\n",
            "epoch: 10 loss: tensor(1.0194)\n",
            "epoch: 11 loss: tensor(1.0189)\n",
            "epoch: 12 loss: tensor(1.0184)\n",
            "epoch: 13 loss: tensor(1.0179)\n",
            "epoch: 14 loss: tensor(1.0174)\n",
            "epoch: 15 loss: tensor(1.0173)\n",
            "epoch: 16 loss: tensor(1.0167)\n",
            "epoch: 17 loss: tensor(1.0167)\n",
            "epoch: 18 loss: tensor(1.0167)\n",
            "epoch: 19 loss: tensor(1.0163)\n",
            "epoch: 20 loss: tensor(1.0160)\n",
            "epoch: 21 loss: tensor(1.0161)\n",
            "epoch: 22 loss: tensor(1.0158)\n",
            "epoch: 23 loss: tensor(1.0158)\n",
            "epoch: 24 loss: tensor(1.0157)\n",
            "epoch: 25 loss: tensor(1.0156)\n",
            "epoch: 26 loss: tensor(1.0154)\n",
            "epoch: 27 loss: tensor(1.0152)\n",
            "epoch: 28 loss: tensor(1.0149)\n",
            "epoch: 29 loss: tensor(1.0122)\n",
            "epoch: 30 loss: tensor(1.0111)\n",
            "epoch: 31 loss: tensor(1.0101)\n",
            "epoch: 32 loss: tensor(1.0074)\n",
            "epoch: 33 loss: tensor(1.0066)\n",
            "epoch: 34 loss: tensor(1.0032)\n",
            "epoch: 35 loss: tensor(1.0028)\n",
            "epoch: 36 loss: tensor(0.9998)\n",
            "epoch: 37 loss: tensor(0.9991)\n",
            "epoch: 38 loss: tensor(0.9952)\n",
            "epoch: 39 loss: tensor(0.9962)\n",
            "epoch: 40 loss: tensor(0.9963)\n",
            "epoch: 41 loss: tensor(0.9945)\n",
            "epoch: 42 loss: tensor(0.9908)\n",
            "epoch: 43 loss: tensor(0.9891)\n",
            "epoch: 44 loss: tensor(0.9871)\n",
            "epoch: 45 loss: tensor(0.9853)\n",
            "epoch: 46 loss: tensor(0.9819)\n",
            "epoch: 47 loss: tensor(0.9864)\n",
            "epoch: 48 loss: tensor(0.9826)\n",
            "epoch: 49 loss: tensor(0.9805)\n",
            "epoch: 50 loss: tensor(0.9776)\n",
            "epoch: 51 loss: tensor(0.9737)\n",
            "epoch: 52 loss: tensor(0.9724)\n",
            "epoch: 53 loss: tensor(0.9713)\n",
            "epoch: 54 loss: tensor(0.9721)\n",
            "epoch: 55 loss: tensor(0.9688)\n",
            "epoch: 56 loss: tensor(0.9716)\n",
            "epoch: 57 loss: tensor(0.9697)\n",
            "epoch: 58 loss: tensor(0.9651)\n",
            "epoch: 59 loss: tensor(0.9633)\n",
            "epoch: 60 loss: tensor(0.9616)\n",
            "epoch: 61 loss: tensor(0.9614)\n",
            "epoch: 62 loss: tensor(0.9591)\n",
            "epoch: 63 loss: tensor(0.9572)\n",
            "epoch: 64 loss: tensor(0.9550)\n",
            "epoch: 65 loss: tensor(0.9545)\n",
            "epoch: 66 loss: tensor(0.9538)\n",
            "epoch: 67 loss: tensor(0.9582)\n",
            "epoch: 68 loss: tensor(0.9581)\n",
            "epoch: 69 loss: tensor(0.9543)\n",
            "epoch: 70 loss: tensor(0.9539)\n",
            "epoch: 71 loss: tensor(0.9527)\n",
            "epoch: 72 loss: tensor(0.9535)\n",
            "epoch: 73 loss: tensor(0.9577)\n",
            "epoch: 74 loss: tensor(0.9524)\n",
            "epoch: 75 loss: tensor(0.9493)\n",
            "epoch: 76 loss: tensor(0.9459)\n",
            "epoch: 77 loss: tensor(0.9476)\n",
            "epoch: 78 loss: tensor(0.9446)\n",
            "epoch: 79 loss: tensor(0.9464)\n",
            "epoch: 80 loss: tensor(0.9429)\n",
            "epoch: 81 loss: tensor(0.9438)\n",
            "epoch: 82 loss: tensor(0.9409)\n",
            "epoch: 83 loss: tensor(0.9433)\n",
            "epoch: 84 loss: tensor(0.9402)\n",
            "epoch: 85 loss: tensor(0.9421)\n",
            "epoch: 86 loss: tensor(0.9399)\n",
            "epoch: 87 loss: tensor(0.9402)\n",
            "epoch: 88 loss: tensor(0.9395)\n",
            "epoch: 89 loss: tensor(0.9393)\n",
            "epoch: 90 loss: tensor(0.9371)\n",
            "epoch: 91 loss: tensor(0.9380)\n",
            "epoch: 92 loss: tensor(0.9364)\n",
            "epoch: 93 loss: tensor(0.9383)\n",
            "epoch: 94 loss: tensor(0.9358)\n",
            "epoch: 95 loss: tensor(0.9364)\n",
            "epoch: 96 loss: tensor(0.9332)\n",
            "epoch: 97 loss: tensor(0.9347)\n",
            "epoch: 98 loss: tensor(0.9320)\n",
            "epoch: 99 loss: tensor(0.9339)\n",
            "epoch: 100 loss: tensor(0.9317)\n",
            "epoch: 101 loss: tensor(0.9334)\n",
            "epoch: 102 loss: tensor(0.9309)\n",
            "epoch: 103 loss: tensor(0.9331)\n",
            "epoch: 104 loss: tensor(0.9303)\n",
            "epoch: 105 loss: tensor(0.9318)\n",
            "epoch: 106 loss: tensor(0.9291)\n",
            "epoch: 107 loss: tensor(0.9305)\n",
            "epoch: 108 loss: tensor(0.9281)\n",
            "epoch: 109 loss: tensor(0.9296)\n",
            "epoch: 110 loss: tensor(0.9278)\n",
            "epoch: 111 loss: tensor(0.9294)\n",
            "epoch: 112 loss: tensor(0.9270)\n",
            "epoch: 113 loss: tensor(0.9281)\n",
            "epoch: 114 loss: tensor(0.9265)\n",
            "epoch: 115 loss: tensor(0.9277)\n",
            "epoch: 116 loss: tensor(0.9261)\n",
            "epoch: 117 loss: tensor(0.9270)\n",
            "epoch: 118 loss: tensor(0.9250)\n",
            "epoch: 119 loss: tensor(0.9261)\n",
            "epoch: 120 loss: tensor(0.9245)\n",
            "epoch: 121 loss: tensor(0.9254)\n",
            "epoch: 122 loss: tensor(0.9245)\n",
            "epoch: 123 loss: tensor(0.9249)\n",
            "epoch: 124 loss: tensor(0.9236)\n",
            "epoch: 125 loss: tensor(0.9244)\n",
            "epoch: 126 loss: tensor(0.9231)\n",
            "epoch: 127 loss: tensor(0.9237)\n",
            "epoch: 128 loss: tensor(0.9224)\n",
            "epoch: 129 loss: tensor(0.9232)\n",
            "epoch: 130 loss: tensor(0.9221)\n",
            "epoch: 131 loss: tensor(0.9227)\n",
            "epoch: 132 loss: tensor(0.9214)\n",
            "epoch: 133 loss: tensor(0.9221)\n",
            "epoch: 134 loss: tensor(0.9210)\n",
            "epoch: 135 loss: tensor(0.9217)\n",
            "epoch: 136 loss: tensor(0.9208)\n",
            "epoch: 137 loss: tensor(0.9215)\n",
            "epoch: 138 loss: tensor(0.9203)\n",
            "epoch: 139 loss: tensor(0.9209)\n",
            "epoch: 140 loss: tensor(0.9200)\n",
            "epoch: 141 loss: tensor(0.9205)\n",
            "epoch: 142 loss: tensor(0.9192)\n",
            "epoch: 143 loss: tensor(0.9198)\n",
            "epoch: 144 loss: tensor(0.9192)\n",
            "epoch: 145 loss: tensor(0.9193)\n",
            "epoch: 146 loss: tensor(0.9185)\n",
            "epoch: 147 loss: tensor(0.9190)\n",
            "epoch: 148 loss: tensor(0.9183)\n",
            "epoch: 149 loss: tensor(0.9187)\n",
            "epoch: 150 loss: tensor(0.9179)\n",
            "epoch: 151 loss: tensor(0.9183)\n",
            "epoch: 152 loss: tensor(0.9176)\n",
            "epoch: 153 loss: tensor(0.9182)\n",
            "epoch: 154 loss: tensor(0.9172)\n",
            "epoch: 155 loss: tensor(0.9178)\n",
            "epoch: 156 loss: tensor(0.9170)\n",
            "epoch: 157 loss: tensor(0.9175)\n",
            "epoch: 158 loss: tensor(0.9168)\n",
            "epoch: 159 loss: tensor(0.9173)\n",
            "epoch: 160 loss: tensor(0.9166)\n",
            "epoch: 161 loss: tensor(0.9167)\n",
            "epoch: 162 loss: tensor(0.9163)\n",
            "epoch: 163 loss: tensor(0.9166)\n",
            "epoch: 164 loss: tensor(0.9159)\n",
            "epoch: 165 loss: tensor(0.9166)\n",
            "epoch: 166 loss: tensor(0.9158)\n",
            "epoch: 167 loss: tensor(0.9159)\n",
            "epoch: 168 loss: tensor(0.9155)\n",
            "epoch: 169 loss: tensor(0.9156)\n",
            "epoch: 170 loss: tensor(0.9152)\n",
            "epoch: 171 loss: tensor(0.9155)\n",
            "epoch: 172 loss: tensor(0.9149)\n",
            "epoch: 173 loss: tensor(0.9149)\n",
            "epoch: 174 loss: tensor(0.9146)\n",
            "epoch: 175 loss: tensor(0.9148)\n",
            "epoch: 176 loss: tensor(0.9144)\n",
            "epoch: 177 loss: tensor(0.9146)\n",
            "epoch: 178 loss: tensor(0.9143)\n",
            "epoch: 179 loss: tensor(0.9143)\n",
            "epoch: 180 loss: tensor(0.9137)\n",
            "epoch: 181 loss: tensor(0.9142)\n",
            "epoch: 182 loss: tensor(0.9135)\n",
            "epoch: 183 loss: tensor(0.9157)\n",
            "epoch: 184 loss: tensor(0.9166)\n",
            "epoch: 185 loss: tensor(0.9157)\n",
            "epoch: 186 loss: tensor(0.9149)\n",
            "epoch: 187 loss: tensor(0.9154)\n",
            "epoch: 188 loss: tensor(0.9146)\n",
            "epoch: 189 loss: tensor(0.9146)\n",
            "epoch: 190 loss: tensor(0.9141)\n",
            "epoch: 191 loss: tensor(0.9144)\n",
            "epoch: 192 loss: tensor(0.9136)\n",
            "epoch: 193 loss: tensor(0.9139)\n",
            "epoch: 194 loss: tensor(0.9132)\n",
            "epoch: 195 loss: tensor(0.9136)\n",
            "epoch: 196 loss: tensor(0.9130)\n",
            "epoch: 197 loss: tensor(0.9132)\n",
            "epoch: 198 loss: tensor(0.9128)\n",
            "epoch: 199 loss: tensor(0.9133)\n",
            "epoch: 200 loss: tensor(0.9122)\n"
          ],
          "name": "stdout"
        }
      ]
    },
    {
      "cell_type": "code",
      "metadata": {
        "id": "hcJFXwf0wY3q",
        "colab_type": "code",
        "colab": {
          "base_uri": "https://localhost:8080/",
          "height": 87
        },
        "outputId": "c7176ec1-383a-4435-f536-9fea4c4c13fa"
      },
      "source": [
        "# Testing the SAE\n",
        "test_loss = 0\n",
        "s = 0.\n",
        "for id_user in range(nb_users):\n",
        "    input = Variable(training_set[id_user]).unsqueeze(0)\n",
        "    target = Variable(test_set[id_user])\n",
        "    if torch.sum(target.data > 0) > 0:\n",
        "        output = sae(input)\n",
        "        target.require_grad = False\n",
        "        output[(target == 0).unsqueeze(0)] = 0\n",
        "        loss = criterion(output, target)\n",
        "        mean_corrector = nb_movies/float(torch.sum(target.data > 0) + 1e-10)\n",
        "        test_loss += np.sqrt(loss.data*mean_corrector)\n",
        "        s += 1.\n",
        "print('test loss: '+str(test_loss/s))"
      ],
      "execution_count": null,
      "outputs": [
        {
          "output_type": "stream",
          "text": [
            "/usr/local/lib/python3.6/dist-packages/torch/nn/modules/loss.py:431: UserWarning: Using a target size (torch.Size([1682])) that is different to the input size (torch.Size([1, 1682])). This will likely lead to incorrect results due to broadcasting. Please ensure they have the same size.\n",
            "  return F.mse_loss(input, target, reduction=self.reduction)\n"
          ],
          "name": "stderr"
        },
        {
          "output_type": "stream",
          "text": [
            "test loss: tensor(0.9482)\n"
          ],
          "name": "stdout"
        }
      ]
    },
    {
      "cell_type": "code",
      "metadata": {
        "id": "ZEMgosgCwfbH",
        "colab_type": "code",
        "colab": {}
      },
      "source": [
        ""
      ],
      "execution_count": null,
      "outputs": []
    }
  ]
}